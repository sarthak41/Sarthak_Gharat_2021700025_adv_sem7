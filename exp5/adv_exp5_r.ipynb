{
  "nbformat": 4,
  "nbformat_minor": 0,
  "metadata": {
    "colab": {
      "provenance": []
    },
    "kernelspec": {
      "name": "python3",
      "display_name": "Python 3"
    },
    "language_info": {
      "name": "python"
    }
  },
  "cells": [
    {
      "cell_type": "code",
      "execution_count": null,
      "metadata": {
        "id": "sSh9XZSzXRAJ"
      },
      "outputs": [],
      "source": [
        "data <- read.csv(\"/content/housing.csv\", header = TRUE, sep = \",\")"
      ]
    },
    {
      "cell_type": "code",
      "source": [
        "ggplot(data,aes(x=ocean_proximity, y=median_house_value)) +\n",
        "   geom_boxplot(fill='coral') +\n",
        "   labs(title=\"Boxplot of House  Value by Ocean Proximity\",x=\"Ocean Proximity\",y=\"Median House Value\") + theme_minimal()"
      ],
      "metadata": {
        "id": "86GWrQjBXY4d"
      },
      "execution_count": null,
      "outputs": []
    },
    {
      "cell_type": "code",
      "source": [
        "ggplot(data,aes(x=ocean_proximity, y=median_income)) +\n",
        "   geom_violin(trim=FALSE, fill='skyblue') +\n",
        "   labs(title=\"Violin plot of Income by Ocean Proximity\",x=\"Ocean Proximity\",y=\"Median Income\") + theme_minimal()"
      ],
      "metadata": {
        "id": "8EyGTvsQX6Ao"
      },
      "execution_count": null,
      "outputs": []
    },
    {
      "cell_type": "code",
      "source": [
        "ggplot(data,aes(x=median_income, y=median_house_value)) +\n",
        "   geom_point() +\n",
        "   geom_smooth(method='lm', se=FALSE, color='blue') +\n",
        "   labs(title=\"Linear Regression: Income vs. House Value\",x=\"Median Income\",y=\"House Value\") + theme_minimal()"
      ],
      "metadata": {
        "id": "XCeAGayaYLIO"
      },
      "execution_count": null,
      "outputs": []
    },
    {
      "cell_type": "code",
      "source": [
        "ggplot(data, aes(x=median_income, y=median_house_value)) +\n",
        "   geom_point() +\n",
        "   geom_smooth(method='loess', se=FALSE, color='blue') +\n",
        "   labs(title=\"Non-Linear Regression: Income vs. House Value\",\n",
        "        x=\"Median Income\",\n",
        "        y=\"House Value\") +\n",
        "   theme_minimal()"
      ],
      "metadata": {
        "id": "bP0BF8O9Yufi"
      },
      "execution_count": null,
      "outputs": []
    }
  ]
}